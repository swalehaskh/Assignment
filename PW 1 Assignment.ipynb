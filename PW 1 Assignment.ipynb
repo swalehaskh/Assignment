{
 "cells": [
  {
   "cell_type": "markdown",
   "id": "f508d2c2",
   "metadata": {},
   "source": [
    "Phython Basic Question"
   ]
  },
  {
   "cell_type": "markdown",
   "id": "18d37b99",
   "metadata": {},
   "source": [
    "Q1) What is Python, and why is it popular ?"
   ]
  },
  {
   "cell_type": "markdown",
   "id": "00cf241f",
   "metadata": {},
   "source": [
    "Python is a high-level, general-purpose programming language. \n",
    "It was created by Guido van Rossum and first released in 1991. \n",
    "It was designed to be easy for beginners to learn, but it's also powerful enough for professionals to use. \n",
    "Python is widely used in many areas, including web development, data analysis, machine learning, automation, and software development. \n",
    "Because of its clear syntax and large collection of libraries, Python is one of the most popular and versatile programming languages in the world.\n",
    "Python is popular because it’s easy to learn, has simple and readable syntax,has lots of libraries, it has a large community and frameworks. Pyhton can be used for many purposes like web development, data science, and AI."
   ]
  },
  {
   "cell_type": "markdown",
   "id": "b57da843",
   "metadata": {},
   "source": [
    " Q2)What is an interpreter in Python?"
   ]
  },
  {
   "cell_type": "markdown",
   "id": "a83fee68",
   "metadata": {},
   "source": [
    "An interpreter in Python is a program that reads and runs your Python code line by line.\n",
    "When you write a Python program, you're writing instructions in the Python language. The interpreter translates these instructions into something the computer can understand and execute."
   ]
  },
  {
   "cell_type": "markdown",
   "id": "8a8c03be",
   "metadata": {},
   "source": [
    "Q3)What are pre-defined keywords in Python?"
   ]
  },
  {
   "cell_type": "markdown",
   "id": "aa809a30",
   "metadata": {},
   "source": [
    "Pre-defined keywords are words that Python can already understands and uses it to do certain tasks. These words have specific meanings and purposes, so you can’t use them as variable names or function names.\n",
    "Some commonly used keywords include if, else, elif, for, while, break, continue, def, return, import, class, try, except, finally, True, False, None, and, or, not, in, and is. \n",
    "\n"
   ]
  },
  {
   "cell_type": "markdown",
   "id": "3a4238f3",
   "metadata": {},
   "source": [
    "Q4)Can keywords be used as variable names?"
   ]
  },
  {
   "cell_type": "markdown",
   "id": "d4848ed4",
   "metadata": {},
   "source": [
    "No, keywords cannot be used as variable names in Python.\n",
    "This is because keywords have special meanings in the language.Python uses these keywords to understand what actions to perform, like running loops (for, while), making decisions (if, else), or defining functions (def). If we try to use a keyword as a variable name, it will confuse Python and cause an error, since it won’t know whether you're trying to use the keyword or create a variable."
   ]
  },
  {
   "cell_type": "markdown",
   "id": "13105987",
   "metadata": {},
   "source": [
    "Q5)What is mutability in Python?"
   ]
  },
  {
   "cell_type": "markdown",
   "id": "34b23ab0",
   "metadata": {},
   "source": [
    "Mutability in Python refers to the ability of an object to be changed after it is created.\n",
    "If an object can be changed, it is called mutable. For example, lists and dictionaries are mutable. This means you can change their content, such as adding, removing, or updating items."
   ]
  },
  {
   "cell_type": "markdown",
   "id": "97416b0d",
   "metadata": {},
   "source": [
    "Q6)Why are lists mutable, but tuples are immutable?"
   ]
  },
  {
   "cell_type": "markdown",
   "id": "de1db956",
   "metadata": {},
   "source": [
    "--> Lists are mutable in Python because they are designed to store collections of items that can change over time, allowing you to modify, add, or remove elements. In contrast, tuples are immutable because they are meant to store fixed, unchangeable data, ensuring their contents remain constant once created.This difference helps keep data safe and prevents accidental changes in programs."
   ]
  },
  {
   "cell_type": "markdown",
   "id": "149c452f",
   "metadata": {},
   "source": [
    "Q7)What is the difference between “==” and “is” operators in Python?"
   ]
  },
  {
   "cell_type": "markdown",
   "id": "0997cea6",
   "metadata": {},
   "source": [
    "--> \"==\" is a Equality Operator used to compare values.It checks if the values of two objects are the same, regardless of whether they are the same object in memory.\n",
    "\"is\" is a Identity Operator.It checks if two variables point to the same object in memory that is whether they are the exact same object, not just the same value.\n",
    " "
   ]
  },
  {
   "cell_type": "markdown",
   "id": "60a6d872",
   "metadata": {},
   "source": [
    "Q8)What are logical operators in Python?"
   ]
  },
  {
   "cell_type": "markdown",
   "id": "c66df1de",
   "metadata": {},
   "source": [
    "--> Logical operators in Python are used to combine conditional statements. They return Boolean values (True or False) and are commonly used in control flow statements like if, while, and for.\n",
    "There are three main logical operators in Python: and, or, not."
   ]
  },
  {
   "cell_type": "markdown",
   "id": "6352021e",
   "metadata": {},
   "source": [
    "Q9)What is type casting in Python?"
   ]
  },
  {
   "cell_type": "markdown",
   "id": "9fc28014",
   "metadata": {},
   "source": [
    "--> Type casting  is the process of converting a variable from one type to another, such as from str to int, or from int to float. It's a fundamental concept in programming that allows you to manipulate and combine data types properly.\n",
    "There are two types of type casting Implicit Type Casting that is performed automatically by Python and  Explicit Type Casting which is done manually by the programmer using built-in functions."
   ]
  },
  {
   "cell_type": "markdown",
   "id": "cc5bbd71",
   "metadata": {},
   "source": [
    "Q10)What is the difference between implicit and explicit type casting?"
   ]
  },
  {
   "cell_type": "markdown",
   "id": "8fe5292e",
   "metadata": {},
   "source": [
    "--> The difference between implicit and explicit type casting in Python lies in how and when the data type conversion occurs. Implicit type casting is performed automatically by Python when it encounters mixed data types in an operation. For example, if you add an integer and a float, Python will automatically convert the integer to a float to avoid data loss and complete the operation smoothly. This kind of casting is safe and does not require programmer intervention.\n",
    "\n",
    " In contrast, explicit type casting is manually done by the programmer using functions like int(), float(), str(), and others. It is used when you want to convert a value from one type to another deliberately—for example, converting a string like \"10\" into an integer using int(\"10\"). However, explicit casting carries the risk of errors (such as trying to convert a non-numeric string to an integer) and potential data loss, like truncating a float to an integer. In summary, implicit casting is automatic and safe, while explicit casting is manual and requires care."
   ]
  },
  {
   "cell_type": "markdown",
   "id": "1c094e32",
   "metadata": {},
   "source": [
    "Q11)What is the purpose of conditional statements in Python?"
   ]
  },
  {
   "cell_type": "markdown",
   "id": "020d9a2d",
   "metadata": {},
   "source": [
    "--> The purpose of conditional statements in Python is to allow your program to make decisions and execute specific blocks of code based on whether certain conditions are true or false. This introduces logic and flexibility into your program, enabling it to behave differently depending on the values of variables, user input, or results of computations.\n",
    "Conditional statements are essential for directing program flow, implementing logic, creating interactive programs, preventing errors and validating data, improving readability and maintainability. \n",
    "In short, conditional statements are the foundation of decision-making in programming, allowing Python scripts to act differently under different circumstances. Without them, your code would always run the same way, regardless of what happens during execution."
   ]
  },
  {
   "cell_type": "markdown",
   "id": "0098cd61",
   "metadata": {},
   "source": [
    "Q12)How does the elif statement work?"
   ]
  },
  {
   "cell_type": "markdown",
   "id": "0f694736",
   "metadata": {},
   "source": [
    "--> The elif statement in Python stands for “else if”, and it is used to check multiple conditions one by one after an initial if statement. It allows your program to respond differently depending on which condition is true—but only one of the blocks will run.\n",
    "\n",
    "elif statement work as follow:\n",
    "\n",
    "1)Firstly Python checks the if condition .\n",
    "\n",
    "2)If the if condition is True, it executes that block and skips the rest.\n",
    "\n",
    "3)If the if condition is False, Python checks the elif condition.\n",
    "\n",
    "4)If the elif is True, it runs that block and skips the rest.\n",
    "\n",
    "5)You can have multiple elif statements to check various conditions.\n",
    "\n",
    "6)Optionally, you can add an else block to catch all remaining cases."
   ]
  },
  {
   "cell_type": "markdown",
   "id": "b4087778",
   "metadata": {},
   "source": [
    "Q13)What is the difference between for and while loops?"
   ]
  },
  {
   "cell_type": "markdown",
   "id": "4c1d69de",
   "metadata": {},
   "source": [
    "--> For Loop:\n",
    "\n",
    "A for loop in Python is used when you know the exact number of iterations or when you want to iterate over a sequence, like a list, string, or range. It works by iterating over each item in the sequence, automatically stopping when the sequence is exhausted. This makes it ideal for situations where you have a defined set of elements to loop through or when you know beforehand how many iterations you need. For example, when using range(), the loop will run for the specified number of iterations. The loop control is based on the sequence, so it’s easy to manage and efficient when the number of iterations is predetermined.\n",
    "\n",
    "While Loop:\n",
    "\n",
    "A while loop, on the other hand, is used when you do not know the number of iterations in advance and instead want the loop to continue as long as a certain condition evaluates to True. The loop runs indefinitely until the condition becomes False. This makes the while loop more flexible than the for loop, but it also requires careful handling to ensure that the condition will eventually become False to prevent infinite loops. While loops are often used when the stopping criteria are based on dynamic conditions, such as user input or real-time calculations, rather than a set number of iterations like in a for loop.\n",
    "\n",
    "In summary, a for loop is best suited for iterating over sequences or when the number of iterations is fixed, while a while loop is more useful when the number of iterations is determined by a condition that may change during runtime."
   ]
  },
  {
   "cell_type": "markdown",
   "id": "3cace4a2",
   "metadata": {},
   "source": [
    "Q14)Describe a scenario where a while loop is more suitable than a for loop?"
   ]
  },
  {
   "cell_type": "markdown",
   "id": "efad8cf7",
   "metadata": {},
   "source": [
    "-->A while loop is more suitable than a for loop when the number of iterations is not known in advance and depends on a condition that is evaluated during the execution of the loop. This makes the while loop ideal for situations where the loop needs to run until a certain condition is met, which might not be tied to a fixed number of iterations.\n",
    "\n",
    "Example Scenario: Waiting for User Input\n",
    "Imagine you're writing a program that prompts a user to enter a password. You want the loop to continue asking for input until the user enters the correct password. The number of attempts isn't predetermined; it depends on when the user enters the correct password.\n",
    "\n",
    "correct_password = \"secret\"\n",
    "\n",
    "user_input = \"\"\n",
    "\n",
    "while user_input != correct_password:\n",
    "    \n",
    "    user_input = input(\"Please enter your password: \")\n",
    "\n",
    "print(\"Password accepted!\")\n"
   ]
  },
  {
   "cell_type": "markdown",
   "id": "6283b4af",
   "metadata": {},
   "source": [
    "Practical Questions"
   ]
  },
  {
   "cell_type": "markdown",
   "id": "8205d1c5",
   "metadata": {},
   "source": [
    "Q1) Write a Python program to print \"Hello, World!\"."
   ]
  },
  {
   "cell_type": "code",
   "execution_count": 2,
   "id": "72e9a289",
   "metadata": {},
   "outputs": [
    {
     "name": "stdout",
     "output_type": "stream",
     "text": [
      "Hello, World!\n"
     ]
    }
   ],
   "source": [
    "print(\"Hello, World!\")"
   ]
  },
  {
   "cell_type": "markdown",
   "id": "a5bea881",
   "metadata": {},
   "source": [
    "Q2)Write a Python program that displays your name and age?"
   ]
  },
  {
   "cell_type": "code",
   "execution_count": 8,
   "id": "704a42d5",
   "metadata": {},
   "outputs": [
    {
     "name": "stdout",
     "output_type": "stream",
     "text": [
      "Name: Swaleha\n",
      "Age: 24\n"
     ]
    }
   ],
   "source": [
    "name = \"Swaleha\"\n",
    "age = 24\n",
    "\n",
    "print(\"Name:\", name)\n",
    "print(\"Age:\", age)"
   ]
  },
  {
   "cell_type": "markdown",
   "id": "a552f6a6",
   "metadata": {},
   "source": [
    "Q3)Write code to print all the pre-defined keywords in Python using the keyword library?"
   ]
  },
  {
   "cell_type": "code",
   "execution_count": 9,
   "id": "bd900252",
   "metadata": {},
   "outputs": [
    {
     "name": "stdout",
     "output_type": "stream",
     "text": [
      "\n",
      "Here is a list of the Python keywords.  Enter any keyword to get more help.\n",
      "\n",
      "False               class               from                or\n",
      "None                continue            global              pass\n",
      "True                def                 if                  raise\n",
      "and                 del                 import              return\n",
      "as                  elif                in                  try\n",
      "assert              else                is                  while\n",
      "async               except              lambda              with\n",
      "await               finally             nonlocal            yield\n",
      "break               for                 not                 \n",
      "\n"
     ]
    }
   ],
   "source": [
    "help('keywords')"
   ]
  },
  {
   "cell_type": "markdown",
   "id": "4dc7d8e0",
   "metadata": {},
   "source": [
    "Q4)Write a program that checks if a given word is a Python keyword.?"
   ]
  },
  {
   "cell_type": "code",
   "execution_count": 14,
   "id": "63437f9e",
   "metadata": {},
   "outputs": [
    {
     "name": "stdout",
     "output_type": "stream",
     "text": [
      "'for' is a Python keyword.\n"
     ]
    }
   ],
   "source": [
    "import keyword\n",
    "\n",
    "word = input(\"Enter a word to check if it's a Python keyword: \")\n",
    "\n",
    "if keyword.iskeyword(word):\n",
    "    print(f\"'{word}' is a Python keyword.\")\n",
    "else:\n",
    "    print(f\"'{word}' is NOT a Python keyword.\")\n"
   ]
  },
  {
   "cell_type": "markdown",
   "id": "16a935ac",
   "metadata": {},
   "source": [
    "Q5)Create a list and tuple in Python, and demonstrate how attempting to change an element works differently \n",
    "for each."
   ]
  },
  {
   "cell_type": "code",
   "execution_count": 12,
   "id": "9a3b0cc2",
   "metadata": {},
   "outputs": [
    {
     "name": "stdout",
     "output_type": "stream",
     "text": [
      "Original list: [10, 20, 30]\n",
      "Modified list: [10, 99, 30]\n",
      "Original tuple: (10, 20, 30)\n",
      "Error modifying tuple: 'tuple' object does not support item assignment\n"
     ]
    }
   ],
   "source": [
    "my_list = [10, 20, 30]\n",
    "my_tuple = (10, 20, 30)\n",
    "print(\"Original list:\", my_list)\n",
    "my_list[1] = 99  \n",
    "print(\"Modified list:\", my_list)\n",
    "print(\"Original tuple:\", my_tuple)\n",
    "try:\n",
    "    my_tuple[1] = 99  \n",
    "except TypeError as e:\n",
    "    print(\"Error modifying tuple:\", e)"
   ]
  },
  {
   "cell_type": "markdown",
   "id": "871d9556",
   "metadata": {},
   "source": [
    "Q6)Write a function to demonstrate the behavior of mutable and immutable arguments."
   ]
  },
  {
   "cell_type": "code",
   "execution_count": 13,
   "id": "9c68f939",
   "metadata": {},
   "outputs": [
    {
     "name": "stdout",
     "output_type": "stream",
     "text": [
      "x = 10\n",
      "y = [1, 2, 3, 4]\n"
     ]
    }
   ],
   "source": [
    "def change_values(a, b):\n",
    "    a = a + 1        # Immutable: int\n",
    "    b.append(4)      # Mutable: list\n",
    "\n",
    "# Variables\n",
    "x = 10\n",
    "y = [1, 2, 3]\n",
    "\n",
    "change_values(x, y)\n",
    "\n",
    "print(\"x =\", x)       # x is unchanged\n",
    "print(\"y =\", y)       # y is changed\n"
   ]
  },
  {
   "cell_type": "markdown",
   "id": "92e0ddcc",
   "metadata": {},
   "source": [
    "Q7)Write a program that performs basic arithmetic operations on two user-input numbers."
   ]
  },
  {
   "cell_type": "code",
   "execution_count": 15,
   "id": "896bbdbf",
   "metadata": {},
   "outputs": [
    {
     "name": "stdout",
     "output_type": "stream",
     "text": [
      "\n",
      "Results:\n",
      "Addition: 22.0\n",
      "Subtraction: 2.0\n",
      "Multiplication: 120.0\n",
      "Division: 1.2\n"
     ]
    }
   ],
   "source": [
    "num1 = float(input(\"Enter first number: \"))\n",
    "num2 = float(input(\"Enter second number: \"))\n",
    "\n",
    "# Perform operations\n",
    "print(\"\\nResults:\")\n",
    "print(\"Addition:\", num1 + num2)\n",
    "print(\"Subtraction:\", num1 - num2)\n",
    "print(\"Multiplication:\", num1 * num2)\n",
    "\n",
    "# Check for division by zero\n",
    "if num2 != 0:\n",
    "    print(\"Division:\", num1 / num2)\n",
    "else:\n",
    "    print(\"Division: Cannot divide by zero\")\n"
   ]
  },
  {
   "cell_type": "markdown",
   "id": "28be527b",
   "metadata": {},
   "source": [
    "Q8)Write a program to demonstrate the use of logical operators."
   ]
  },
  {
   "cell_type": "code",
   "execution_count": 16,
   "id": "e6d26a34",
   "metadata": {},
   "outputs": [
    {
     "name": "stdout",
     "output_type": "stream",
     "text": [
      "a and b = False\n",
      "a or b = True\n",
      "not a = False\n",
      "not b = True\n"
     ]
    }
   ],
   "source": [
    "# Define two boolean variables\n",
    "a = True\n",
    "b = False\n",
    "\n",
    "# Logical AND\n",
    "print(\"a and b =\", a and b)\n",
    "\n",
    "# Logical OR\n",
    "print(\"a or b =\", a or b)\n",
    "\n",
    "# Logical NOT\n",
    "print(\"not a =\", not a)\n",
    "print(\"not b =\", not b)\n"
   ]
  },
  {
   "cell_type": "markdown",
   "id": "24a917b0",
   "metadata": {},
   "source": [
    "Q9)Write a Python program to convert user input from string to integer, float, and boolean types."
   ]
  },
  {
   "cell_type": "code",
   "execution_count": 17,
   "id": "92250080",
   "metadata": {},
   "outputs": [
    {
     "name": "stdout",
     "output_type": "stream",
     "text": [
      "Integer: 41\n",
      "Float: 41.0\n",
      "Boolean: True\n"
     ]
    }
   ],
   "source": [
    "# Get input from the user\n",
    "user_input = input(\"Enter a value: \")\n",
    "\n",
    "# Convert to integer\n",
    "try:\n",
    "    int_value = int(user_input)\n",
    "    print(\"Integer:\", int_value)\n",
    "except ValueError:\n",
    "    print(\"Cannot convert to integer.\")\n",
    "\n",
    "# Convert to float\n",
    "try:\n",
    "    float_value = float(user_input)\n",
    "    print(\"Float:\", float_value)\n",
    "except ValueError:\n",
    "    print(\"Cannot convert to float.\")\n",
    "\n",
    "# Convert to boolean\n",
    "bool_value = bool(user_input)\n",
    "print(\"Boolean:\", bool_value)\n"
   ]
  },
  {
   "cell_type": "markdown",
   "id": "114a1c30",
   "metadata": {},
   "source": [
    "Q10)Write code to demonstrate type casting with list elements."
   ]
  },
  {
   "cell_type": "code",
   "execution_count": 18,
   "id": "6c97dc25",
   "metadata": {},
   "outputs": [
    {
     "name": "stdout",
     "output_type": "stream",
     "text": [
      "Original (string) list: ['10', '20', '30', '40']\n",
      "Integer list: [10, 20, 30, 40]\n",
      "Float list: [10.0, 20.0, 30.0, 40.0]\n",
      "Boolean list: [True, True, True, True]\n"
     ]
    }
   ],
   "source": [
    "str_list = [\"10\", \"20\", \"30\", \"40\"]\n",
    "\n",
    "int_list = [int(item) for item in str_list]\n",
    "\n",
    "float_list = [float(item) for item in str_list]\n",
    "\n",
    "bool_list = [bool(item) for item in str_list]\n",
    "\n",
    "print(\"Original (string) list:\", str_list)\n",
    "print(\"Integer list:\", int_list)\n",
    "print(\"Float list:\", float_list)\n",
    "print(\"Boolean list:\", bool_list)\n"
   ]
  },
  {
   "cell_type": "markdown",
   "id": "b6706e37",
   "metadata": {},
   "source": [
    "Q11)Write a program that checks if a number is positive, negative, or zero."
   ]
  },
  {
   "cell_type": "code",
   "execution_count": 19,
   "id": "77f01cd3",
   "metadata": {},
   "outputs": [
    {
     "name": "stdout",
     "output_type": "stream",
     "text": [
      "The number is positive.\n"
     ]
    }
   ],
   "source": [
    "num = float(input(\"Enter a number: \"))\n",
    "if num > 0:\n",
    "    print(\"The number is positive.\")\n",
    "elif num < 0:\n",
    "    print(\"The number is negative.\")\n",
    "else:\n",
    "    print(\"The number is zero.\")"
   ]
  },
  {
   "cell_type": "markdown",
   "id": "58781b2b",
   "metadata": {},
   "source": [
    "Q12) Write a for loop to print numbers from 1 to 10."
   ]
  },
  {
   "cell_type": "code",
   "execution_count": 1,
   "id": "cfea1fcb",
   "metadata": {},
   "outputs": [
    {
     "name": "stdout",
     "output_type": "stream",
     "text": [
      "1\n",
      "2\n",
      "3\n",
      "4\n",
      "5\n",
      "6\n",
      "7\n",
      "8\n",
      "9\n",
      "10\n"
     ]
    }
   ],
   "source": [
    "for i in range(1, 11):\n",
    "    print(i)"
   ]
  },
  {
   "cell_type": "markdown",
   "id": "cca751e8",
   "metadata": {},
   "source": [
    "Q13) Write a Python program to find the sum of all even numbers between 1 and 50."
   ]
  },
  {
   "cell_type": "code",
   "execution_count": 2,
   "id": "57caf76a",
   "metadata": {},
   "outputs": [
    {
     "name": "stdout",
     "output_type": "stream",
     "text": [
      "Sum of even numbers from 1 to 50 is: 650\n"
     ]
    }
   ],
   "source": [
    "total = 0\n",
    "\n",
    "for i in range(1, 51):\n",
    "    if i % 2 == 0:\n",
    "        total += i\n",
    "\n",
    "print(\"Sum of even numbers from 1 to 50 is:\", total)\n"
   ]
  },
  {
   "cell_type": "markdown",
   "id": "8cdd82bb",
   "metadata": {},
   "source": [
    "Q14)Write a program to reverse a string using a while loop."
   ]
  },
  {
   "cell_type": "code",
   "execution_count": 7,
   "id": "67720c6e",
   "metadata": {},
   "outputs": [
    {
     "name": "stdout",
     "output_type": "stream",
     "text": [
      "Original String: Available\n",
      "Reversed String: elbaliavA\n"
     ]
    }
   ],
   "source": [
    "original_string = \"Available\"\n",
    "\n",
    "reversed_string = \"\"\n",
    "index = len(original_string) - 1\n",
    "\n",
    "while index >= 0:\n",
    "    reversed_string += original_string[index]\n",
    "    index -= 1\n",
    "\n",
    "print(\"Original String:\", original_string)\n",
    "print(\"Reversed String:\", reversed_string)\n"
   ]
  },
  {
   "cell_type": "markdown",
   "id": "955d1180",
   "metadata": {},
   "source": [
    "Q15) Write a Python program to calculate the factorial of a number provided by the user using a while loop."
   ]
  },
  {
   "cell_type": "code",
   "execution_count": 10,
   "id": "10d60f96",
   "metadata": {},
   "outputs": [
    {
     "name": "stdout",
     "output_type": "stream",
     "text": [
      "Factorial of 8 is: 40320\n"
     ]
    }
   ],
   "source": [
    "num = int(input(\"Enter a number to find its factorial: \"))\n",
    "\n",
    "factorial = 1\n",
    "i = 1\n",
    "\n",
    "while i <= num:\n",
    "    factorial *= i\n",
    "    i += 1\n",
    "\n",
    "print(f\"Factorial of {num} is: {factorial}\")\n"
   ]
  },
  {
   "cell_type": "code",
   "execution_count": null,
   "id": "1f11deb1",
   "metadata": {},
   "outputs": [],
   "source": []
  }
 ],
 "metadata": {
  "kernelspec": {
   "display_name": "Python 3",
   "language": "python",
   "name": "python3"
  },
  "language_info": {
   "codemirror_mode": {
    "name": "ipython",
    "version": 3
   },
   "file_extension": ".py",
   "mimetype": "text/x-python",
   "name": "python",
   "nbconvert_exporter": "python",
   "pygments_lexer": "ipython3",
   "version": "3.13.3"
  }
 },
 "nbformat": 4,
 "nbformat_minor": 5
}
