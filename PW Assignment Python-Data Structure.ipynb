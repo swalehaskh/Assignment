{
 "cells": [
  {
   "cell_type": "markdown",
   "id": "861b8b47",
   "metadata": {},
   "source": [
    "# Data Types and Structures Questions"
   ]
  },
  {
   "cell_type": "markdown",
   "id": "8d8f3634",
   "metadata": {},
   "source": [
    "Q1)  What are data structures, and why are they important ?"
   ]
  },
  {
   "cell_type": "markdown",
   "id": "899bca64",
   "metadata": {},
   "source": [
    "- Data structures are ways of organizing and storing data in a computer so that it can be accessed and modified efficiently. Think of them as containers or layouts for data, each optimized for different tasks or types of operations.\n",
    "\n",
    "Data structures are essential in computer science because they improve efficiency, scalability, and clarity in software development. By organizing data effectively, they enable faster operations—such as using a hash table for quick searches compared to a list—and help applications scale smoothly as data volumes grow. Many algorithms rely on specific data structures, like priority queues in Dijkstra’s algorithm, to solve complex problems efficiently. Moreover, well-structured data makes code easier to understand, maintain, and debug. Data structures like trees and graphs also mirror real-world relationships, making them ideal for modeling systems such as organizational charts or social networks."
   ]
  },
  {
   "cell_type": "markdown",
   "id": "40ca7f7d",
   "metadata": {},
   "source": [
    "Q2)  Explain the difference between mutable and immutable data types with examples?"
   ]
  },
  {
   "cell_type": "markdown",
   "id": "5127c504",
   "metadata": {},
   "source": [
    "- Mutable data type :\n",
    "A mutable data type is one that allows changes to its contents without changing its identity. This means that after you modify the object, it remains the same object in memory.\n",
    "Examples:\n",
    "\n",
    "List → my_list = [1, 2, 3] → my_list[0] = 10 → [10, 2, 3]\n",
    "\n",
    "Dictionary → my_dict = {\"a\": 1} → my_dict[\"a\"] = 2 → {\"a\": 2}\n",
    "\n",
    "Set → my_set = {1, 2} → my_set.add(3) → {1, 2, 3}\n",
    "\n",
    "- Immutable data type :\n",
    "An immutable data type does not allow changes to its contents after it's created. Any operation that tries to modify the object will instead create a new object.\n",
    "Examples:\n",
    "\n",
    "String → my_str = \"hello\" → my_str[0] = \"H\" ❌ (error)\n",
    "\n",
    "Tuple → my_tuple = (1, 2) → my_tuple[0] = 10 ❌ (error)\n",
    "\n",
    "Integer → x = 5 → x = x + 1 creates a new integer object\n"
   ]
  },
  {
   "cell_type": "markdown",
   "id": "a915d871",
   "metadata": {},
   "source": [
    "Q3) What are the main differences between lists and tuples in Python?"
   ]
  },
  {
   "cell_type": "markdown",
   "id": "76daceeb",
   "metadata": {},
   "source": [
    "| Feature                    | **List**                                     | **Tuple**                                               |\n",
    "| -------------------------- | -------------------------------------------- | ------------------------------------------------------- |\n",
    "| **Mutability**             | Mutable (can be changed)                     | Immutable (cannot be changed)                           |\n",
    "| **Syntax**                 | Defined with square brackets `[]`            | Defined with parentheses `()`                           |\n",
    "| **Methods Available**      | More (e.g., `append()`, `pop()`)             | Fewer (e.g., `count()`, `index()`)                      |\n",
    "| **Performance**            | Slightly slower (more flexible)              | Faster (less overhead)                                  |\n",
    "| **Use Case**               | For data that changes (e.g., lists of users) | For fixed data (e.g., coordinates)                      |\n",
    "| **Can be Dictionary Key?** | ❌ No, lists are not hashable                 | ✅ Yes, tuples can be keys if all elements are immutable |\n",
    "| **Memory Usage**           | Uses more memory                             | Uses less memory                                        |\n"
   ]
  },
  {
   "cell_type": "markdown",
   "id": "c8b91896",
   "metadata": {},
   "source": [
    "Q4)  Describe how dictionaries store data."
   ]
  },
  {
   "cell_type": "markdown",
   "id": "9db836a9",
   "metadata": {},
   "source": [
    "- Dictionaries in Python store data as key-value pairs using a data structure called a hash table. This allows for fast access, insertion, and deletion based on unique keys.\n",
    "\n",
    "1) Key-Value Pairs:\n",
    "\n",
    "Each item in a dictionary has a key and a value.\n",
    "\n",
    "2) Hashing:\n",
    "\n",
    "Python uses a function called a hash function to convert each key into an integer called a hash.\n",
    "\n",
    "This hash determines where in memory the value will be stored.\n",
    "\n",
    "Only immutable types (like strings, numbers, or tuples) can be used as dictionary keys because they must be hashable.\n",
    "\n",
    "3) Indexing via Hash Table:\n",
    "\n",
    "Internally, the dictionary uses a hash table to map hashes of keys to their values.\n",
    "\n",
    "This allows Python to find a value in constant time (O(1)) in most cases.\n",
    "\n",
    "4) Collision Handling:\n",
    "\n",
    "If two keys produce the same hash (a collision), Python uses techniques like open addressing to resolve them by finding another available slot.\n",
    "\n",
    "5) Dynamic Resizing:\n",
    "\n",
    "As items are added, the dictionary automatically resizes to maintain performance, though resizing can briefly affect speed.\n",
    "\n",
    "\n",
    "\n"
   ]
  },
  {
   "cell_type": "markdown",
   "id": "7aeb4d87",
   "metadata": {},
   "source": [
    "Q5) Why might you use a set instead of a list in Python?"
   ]
  },
  {
   "cell_type": "markdown",
   "id": "334924c2",
   "metadata": {},
   "source": [
    "- You might use a set instead of a list in Python when you need to store a collection of unique items and care about performance during membership tests. Sets automatically eliminate duplicate elements, so if you add the same item multiple times, it will only appear once. They are also significantly faster than lists for checking whether an item exists, as sets use a hash table under the hood, allowing for average-case constant time lookups (O(1)), whereas lists require linear time (O(n)). Additionally, sets support powerful built-in operations such as union, intersection, and difference, which make them ideal for tasks involving comparisons between groups of items. However, sets are unordered and do not support indexing or slicing, so if you need to preserve order or allow duplicate values, a list would be more appropriate."
   ]
  },
  {
   "cell_type": "markdown",
   "id": "737c01b4",
   "metadata": {},
   "source": [
    "Q6) What is a string in Python, and how is it different from a list?"
   ]
  },
  {
   "cell_type": "markdown",
   "id": "5dadfe34",
   "metadata": {},
   "source": [
    "In Python, a string is a sequence of characters enclosed in quotes—either single ('), double (\"), or triple quotes for multiline strings (''' or \"\"\"). Strings are used to represent text, such as \"hello world\" or 'Python 3.11'. A list, on the other hand, is a sequence of elements that can contain any data type, including numbers, strings, or even other lists, and is enclosed in square brackets (e.g., [1, 2, 3] or ['a', 'b', 'c']).\n",
    "\n",
    "The main differences are:\n",
    "\n",
    "Mutability: Strings are immutable, meaning once created, their content cannot be changed. Lists are mutable, so you can modify, add, or remove elements after the list is created.\n",
    "\n",
    "Element Type: A string is essentially a list of characters, but all elements are characters (strings of length 1). A list can contain any combination of data types.\n",
    "\n",
    "Syntax: Strings use quotes, lists use square brackets.\n",
    "\n",
    "Operations: Both strings and lists support indexing and slicing, but strings have methods geared toward text manipulation (like .upper(), .replace()), while lists have methods for managing sequences of items (like .append(), .sort())."
   ]
  },
  {
   "cell_type": "markdown",
   "id": "d5a7be22",
   "metadata": {},
   "source": [
    "Q7)How do tuples ensure data integrity in Python?"
   ]
  },
  {
   "cell_type": "markdown",
   "id": "dd8993b2",
   "metadata": {},
   "source": [
    "Tuples help ensure data integrity in Python primarily through their immutability—once a tuple is created, its contents cannot be changed. This immutability provides several key benefits:\n",
    "\n",
    "1. Prevents Accidental Modification:\n",
    "Because tuples are immutable, you can’t accidentally change their contents after creation. This makes them ideal for storing fixed collections of data, such as coordinates, configuration settings, or function arguments you don’t want to be altered.\n",
    "2. Safe for Use as Dictionary Keys or Set Elements:\n",
    "Only hashable (immutable) objects can be used as keys in dictionaries or elements in sets. Tuples can be hashed if they contain only hashable items, allowing them to be used in these contexts where data must not change.\n",
    "3. Reliable Data Transport:\n",
    "When you pass a tuple to a function, you can be confident that it won’t be changed inside the function. This makes tuples a good choice for passing constant data around in large applications or APIs.\n",
    "\n",
    "4. Semantic Intent:\n",
    "Using a tuple signals that a collection of values is meant to be treated as a single, unchanging unit—similar to a record. This is clearer to other developers (or future you) than using a mutable list."
   ]
  },
  {
   "cell_type": "markdown",
   "id": "92ae05f9",
   "metadata": {},
   "source": [
    "Q8) What is a hash table, and how does it relate to dictionaries in Python?"
   ]
  },
  {
   "cell_type": "markdown",
   "id": "5432deea",
   "metadata": {},
   "source": [
    "- A hash table is a data structure that provides fast access to data using keys. It uses a hash function to compute an index (called a hash) into an array of buckets or slots, from which the desired value can be found.\n",
    "\n",
    "- How It Relates to Python Dictionaries\n",
    "In Python:\n",
    "\n",
    "The dict (dictionary) is an implementation of a hash table.\n",
    "\n",
    "You can store and retrieve data using arbitrary, immutable keys (like strings, numbers, tuples).\n",
    "\n",
    "Internally, Python uses a highly optimized hash table to implement dictionaries. "
   ]
  },
  {
   "cell_type": "markdown",
   "id": "2dc7dce7",
   "metadata": {},
   "source": [
    "Q9) Can lists contain different data types in Python?"
   ]
  },
  {
   "cell_type": "markdown",
   "id": "dbb727ed",
   "metadata": {},
   "source": [
    "- Yes, lists in Python can contain different data types.\n",
    "\n",
    "Python lists are heterogeneous, meaning they can store elements of varying types—including integers, strings, floats, other lists, objects, and even functions."
   ]
  },
  {
   "cell_type": "markdown",
   "id": "53ca50fd",
   "metadata": {},
   "source": [
    "Q10) Explain why strings are immutable in Python."
   ]
  },
  {
   "cell_type": "markdown",
   "id": "56351f71",
   "metadata": {},
   "source": [
    "- Strings are immutable in Python, meaning that once a string is created, it cannot be changed. This design choice offers several important benefits. First, it allows Python to optimize performance by enabling string interning and caching hash values, which improves memory usage and lookup speed in dictionaries and sets. Second, immutability makes strings hashable, a requirement for using them as keys in dictionaries or elements in sets. Additionally, immutable strings are thread-safe, as they cannot be altered by concurrent operations, reducing the risk of unexpected side effects. This also simplifies debugging and function behavior, since you can be confident that passing a string won’t result in it being modified elsewhere in your program. Overall, string immutability enhances Python’s performance, safety, and predictability."
   ]
  },
  {
   "cell_type": "markdown",
   "id": "4d4a394d",
   "metadata": {},
   "source": [
    "Q11)What advantages do dictionaries offer over lists for certain tasks?"
   ]
  },
  {
   "cell_type": "markdown",
   "id": "cf07e054",
   "metadata": {},
   "source": [
    "- Dictionaries offer several advantages over lists for certain tasks, particularly when data needs to be accessed or organized using unique keys rather than positional indices. One of the main benefits is that dictionaries provide fast lookups by key, typically in constant time (O(1)), thanks to their underlying hash table structure, while searching for an item in a list requires linear time (O(n)). This makes dictionaries more efficient for tasks like looking up values, checking for the existence of items, or updating data. Additionally, dictionaries allow for clearer and more readable code by associating meaningful keys with values, reducing the need to remember element positions as required in lists. They also eliminate the need to track indices manually and make membership testing faster and more efficient. Overall, dictionaries are well-suited for organizing data in key-value pairs, offering both speed and clarity for tasks where relationships between items matter more than their order.\n",
    "\n",
    "\n",
    "\n",
    "\n"
   ]
  },
  {
   "cell_type": "markdown",
   "id": "36decd1e",
   "metadata": {},
   "source": [
    "Q12) Describe a scenario where using a tuple would be preferable over a list."
   ]
  },
  {
   "cell_type": "markdown",
   "id": "21df2989",
   "metadata": {},
   "source": [
    "- A scenario where using a **tuple** would be preferable over a **list** is when you need to store a **fixed collection of related values** that should **not change** throughout the program—essentially, when immutability is desired for safety, clarity, or performance.\n",
    "\n",
    "For example, imagine you're writing a function that returns the **coordinates of a point** in a 2D space:\n",
    "\n",
    "```python\n",
    "def get_origin():\n",
    "    return (0, 0)  # tuple used to represent a fixed pair of values\n",
    "```\n",
    "\n",
    "Here, a tuple is ideal because the coordinates represent a constant pair that shouldn't be modified. Using a list would suggest that the values might change, which could lead to bugs or confusion.\n",
    "\n",
    "Other common use cases for tuples include:\n",
    "\n",
    "* Returning multiple values from a function.\n",
    "* Using tuples as keys in dictionaries (since only immutable types can be hashed).\n",
    "* Representing records or data structures where the order and number of elements are known and fixed, such as `(name, age, email)`.\n",
    "\n",
    "In short, a tuple is preferred when the data should be **immutable, ordered, and fixed in length**, helping ensure data integrity and clarity of intent.\n"
   ]
  },
  {
   "cell_type": "markdown",
   "id": "1de9e9a7",
   "metadata": {},
   "source": [
    "Q13) How do sets handle duplicate values in Python?"
   ]
  },
  {
   "cell_type": "markdown",
   "id": "c2f9d875",
   "metadata": {},
   "source": [
    "- In Python, sets automatically eliminate duplicate values. A set is an unordered collection of unique elements, so if you try to add duplicate items, only one instance of each unique value will be stored."
   ]
  },
  {
   "cell_type": "markdown",
   "id": "15424119",
   "metadata": {},
   "source": [
    "Q14) How does the “in” keyword work differently for lists and dictionaries?"
   ]
  },
  {
   "cell_type": "markdown",
   "id": "cbd2a80f",
   "metadata": {},
   "source": [
    "- The **`in`** keyword behaves differently when used with lists and dictionaries in Python. For **lists**, it checks whether a **value** exists in the list, performing a linear search with a time complexity of **O(n)**, where *n* is the length of the list. For example, `\"banana\" in [\"apple\", \"banana\", \"cherry\"]` checks if `\"banana\"` is an element in the list. In contrast, for **dictionaries**, the `in` keyword checks whether a **key** exists in the dictionary, using a **hash table lookup** for faster performance, typically with a time complexity of **O(1)**. For instance, `\"name\" in {\"name\": \"Alice\", \"age\": 30}` checks if `\"name\"` is a key in the dictionary. If you need to check for a **value** in a dictionary, you would use `in` with the `.values()` method, like `\"Alice\" in person.values()`. Thus, while the `in` keyword is used for membership testing in both cases, it operates differently depending on whether you're working with lists or dictionaries.\n"
   ]
  },
  {
   "cell_type": "markdown",
   "id": "2c6eb107",
   "metadata": {},
   "source": [
    "Q15) Can you modify the elements of a tuple? Explain why or why not."
   ]
  },
  {
   "cell_type": "markdown",
   "id": "29839cd1",
   "metadata": {},
   "source": [
    "- No, you cannot modify the elements of a tuple in Python because tuples are immutable. Once a tuple is created, its contents cannot be changed, added to, or removed. This includes modifying individual elements within the tuple.\n",
    "\n",
    "Why Tuples Are Immutable:\n",
    "Immutability is a core property of tuples, designed for efficiency and safety. Since tuples cannot be modified, they can be used as keys in dictionaries (unlike lists, which are mutable).\n",
    "\n",
    "The immutability of tuples helps prevent accidental modification of data, making code more predictable and reliable.\n",
    "\n",
    "Memory optimization: Immutable objects like tuples can be optimized and shared in memory, which improves performance."
   ]
  },
  {
   "cell_type": "markdown",
   "id": "d9a2dbb7",
   "metadata": {},
   "source": [
    "Q16) What is a nested dictionary, and give an example of its use case?"
   ]
  },
  {
   "cell_type": "markdown",
   "id": "e57a0633",
   "metadata": {},
   "source": [
    "- A nested dictionary is a dictionary where the values themselves are dictionaries, allowing you to represent more complex hierarchical data structures. It enables you to store multiple layers of key-value pairs, which can be particularly useful when dealing with structured or multi-level data.\n",
    "\n",
    "Use Case Example: Storing Information About Students\n",
    "Imagine you want to store information about students in a class, including their personal details and scores for different subjects. You can use a nested dictionary to organize this information in a structured way.\n",
    "\n",
    "Example:\n",
    "students = {\n",
    "    \"Alice\": {\n",
    "        \"age\": 20,\n",
    "        \"subjects\": {\n",
    "            \"Math\": 90,\n",
    "            \"English\": 85,\n",
    "            \"Science\": 92\n",
    "        }\n",
    "    },\n",
    "    \"Bob\": {\n",
    "        \"age\": 22,\n",
    "        \"subjects\": {\n",
    "            \"Math\": 88,\n",
    "            \"English\": 80,\n",
    "            \"Science\": 85\n",
    "        }\n",
    "    }\n",
    "}\n",
    "\n",
    "print(students[\"Alice\"][\"age\"])  # Output: 20\n",
    "print(students[\"Bob\"][\"subjects\"][\"Math\"])  # Output: 88\n"
   ]
  },
  {
   "cell_type": "markdown",
   "id": "b5266068",
   "metadata": {},
   "source": [
    "Q17)  Describe the time complexity of accessing elements in a dictionary."
   ]
  },
  {
   "cell_type": "markdown",
   "id": "8537e950",
   "metadata": {},
   "source": [
    "- The time complexity of accessing elements in a dictionary in Python is O(1) on average, meaning it takes constant time to look up a value by its key. This efficiency is due to the underlying hash table implementation of dictionaries."
   ]
  },
  {
   "cell_type": "markdown",
   "id": "5a7f5d3f",
   "metadata": {},
   "source": [
    "Q18) In what situations are lists preferred over dictionaries?"
   ]
  },
  {
   "cell_type": "markdown",
   "id": "0fa4c454",
   "metadata": {},
   "source": [
    "- **Lists** are preferred over **dictionaries** in the following situations:\n",
    "\n",
    "1. **Ordered Data**: When the order of elements matters and you need to access them by position.\n",
    "2. **Data with Repeated Elements**: When you need to store multiple instances of the same element.\n",
    "3. **Iteration or Sequential Processing**: When you need to iterate through elements or perform operations like filtering or sorting.\n",
    "4. **Simple Data Structure**: When you don’t need key-value pairs and prefer a straightforward collection.\n",
    "5. **Working with Arrays of Similar Data**: When dealing with homogeneous data types and performing operations based on sequence.\n",
    "6. **Memory Efficiency for Small Datasets**: When working with small collections and not needing key-based access.\n"
   ]
  },
  {
   "cell_type": "markdown",
   "id": "5cadcb52",
   "metadata": {},
   "source": [
    "Q19) Why are dictionaries considered unordered, and how does that affect data retrieva?\n"
   ]
  },
  {
   "cell_type": "markdown",
   "id": "6dde5a21",
   "metadata": {},
   "source": [
    "- Dictionaries in Python are considered unordered because they do not maintain the order of elements based on how they were inserted. Instead, dictionaries are implemented using hash tables, where each key is hashed to a specific index, and values are stored at those indices. This means that the order in which key-value pairs are added does not dictate their storage or retrieval order."
   ]
  },
  {
   "cell_type": "markdown",
   "id": "1ef32c6a",
   "metadata": {},
   "source": [
    "Q20) Explain the difference between a list and a dictionary in terms of data retrieval."
   ]
  },
  {
   "cell_type": "markdown",
   "id": "e61af854",
   "metadata": {},
   "source": [
    "- The main difference between a list and a dictionary in terms of data retrieval lies in how elements are accessed and the efficiency of those operations:\n",
    "\n",
    "1. Access by Index (List):\n",
    "Lists are ordered collections, meaning the elements have a specific position or index.\n",
    "\n",
    "Data retrieval in a list is done by accessing an element at a particular index, such as my_list[0], which retrieves the first element.\n",
    "\n",
    "Lists use sequential indexing, and to retrieve a specific item, Python must search through the list to reach the desired index (this is efficient with O(1) for direct access, but for searches, it can be slower).\n",
    "\n",
    "2. Access by Key (Dictionary):\n",
    "Dictionaries are unordered collections of key-value pairs.\n",
    "\n",
    "Data retrieval in a dictionary is done by accessing a value using its key, such as my_dict['name'].\n",
    "\n",
    "Dictionaries use hashing to map each key to a specific index internally, allowing for constant time (O(1)) lookups on average, meaning that retrieving data by key is very efficient and doesn’t require searching through the collection."
   ]
  },
  {
   "cell_type": "markdown",
   "id": "4a4c6c28",
   "metadata": {},
   "source": [
    "Practical Questions:"
   ]
  },
  {
   "cell_type": "markdown",
   "id": "c09f4e5f",
   "metadata": {},
   "source": [
    "Q1) Write a code to create a string with your name and print it."
   ]
  },
  {
   "cell_type": "code",
   "execution_count": 1,
   "id": "808c1e76",
   "metadata": {},
   "outputs": [
    {
     "name": "stdout",
     "output_type": "stream",
     "text": [
      "Swaleha\n"
     ]
    }
   ],
   "source": [
    "name = \"Swaleha\"\n",
    "print(name)\n"
   ]
  },
  {
   "cell_type": "markdown",
   "id": "8bf99f3c",
   "metadata": {},
   "source": [
    "Q2) Write a code to find the length of the string \"Hello World\"."
   ]
  },
  {
   "cell_type": "code",
   "execution_count": 2,
   "id": "db396376",
   "metadata": {},
   "outputs": [
    {
     "name": "stdout",
     "output_type": "stream",
     "text": [
      "11\n"
     ]
    }
   ],
   "source": [
    "string = \"Hello World\"\n",
    "length = len(string)\n",
    "print(length)\n"
   ]
  },
  {
   "cell_type": "markdown",
   "id": "d8cb30f5",
   "metadata": {},
   "source": [
    "Q3) Write a code to slice the first 3 characters from the string \"Python Programming\"."
   ]
  },
  {
   "cell_type": "code",
   "execution_count": 3,
   "id": "6fc4d0e4",
   "metadata": {},
   "outputs": [
    {
     "name": "stdout",
     "output_type": "stream",
     "text": [
      "Pyt\n"
     ]
    }
   ],
   "source": [
    "string = \"Python Programming\"\n",
    "sliced_string = string[:3]\n",
    "print(sliced_string)\n"
   ]
  },
  {
   "cell_type": "markdown",
   "id": "2c604716",
   "metadata": {},
   "source": [
    "Q4)  Write a code to convert the string \"hello\" to uppercase."
   ]
  },
  {
   "cell_type": "code",
   "execution_count": 4,
   "id": "7aecb651",
   "metadata": {},
   "outputs": [
    {
     "name": "stdout",
     "output_type": "stream",
     "text": [
      "HELLO\n"
     ]
    }
   ],
   "source": [
    "string = \"hello\"\n",
    "uppercase_string = string.upper()\n",
    "print(uppercase_string)\n"
   ]
  },
  {
   "cell_type": "markdown",
   "id": "2562d28c",
   "metadata": {},
   "source": [
    "Q5) Write a code to replace the word \"apple\" with \"orange\" in the string \"I like apple\"."
   ]
  },
  {
   "cell_type": "code",
   "execution_count": 5,
   "id": "3bdf27f2",
   "metadata": {},
   "outputs": [
    {
     "name": "stdout",
     "output_type": "stream",
     "text": [
      "I like orange\n"
     ]
    }
   ],
   "source": [
    "string = \"I like apple\"\n",
    "modified_string = string.replace(\"apple\", \"orange\")\n",
    "print(modified_string)\n"
   ]
  },
  {
   "cell_type": "markdown",
   "id": "9a808485",
   "metadata": {},
   "source": [
    "Q6) Write a code to create a list with numbers 1 to 5 and print it."
   ]
  },
  {
   "cell_type": "code",
   "execution_count": 6,
   "id": "9910f304",
   "metadata": {},
   "outputs": [
    {
     "name": "stdout",
     "output_type": "stream",
     "text": [
      "[1, 2, 3, 4, 5]\n"
     ]
    }
   ],
   "source": [
    "numbers = [1, 2, 3, 4, 5]\n",
    "print(numbers)\n"
   ]
  },
  {
   "cell_type": "markdown",
   "id": "ec248b97",
   "metadata": {},
   "source": [
    "Q7) Write a code to append the number 10 to the list [1, 2, 3, 4]."
   ]
  },
  {
   "cell_type": "code",
   "execution_count": 7,
   "id": "08818caf",
   "metadata": {},
   "outputs": [
    {
     "name": "stdout",
     "output_type": "stream",
     "text": [
      "[1, 2, 3, 4, 10]\n"
     ]
    }
   ],
   "source": [
    "numbers = [1, 2, 3, 4]\n",
    "numbers.append(10)\n",
    "print(numbers)\n"
   ]
  },
  {
   "cell_type": "markdown",
   "id": "5308c89a",
   "metadata": {},
   "source": [
    "Q8) Write a code to remove the number 3 from the list [1, 2, 3, 4, 5]."
   ]
  },
  {
   "cell_type": "code",
   "execution_count": 8,
   "id": "36843b8a",
   "metadata": {},
   "outputs": [
    {
     "name": "stdout",
     "output_type": "stream",
     "text": [
      "[1, 2, 4, 5]\n"
     ]
    }
   ],
   "source": [
    "numbers = [1, 2, 3, 4, 5]\n",
    "numbers.remove(3)\n",
    "print(numbers)\n"
   ]
  },
  {
   "cell_type": "markdown",
   "id": "4732a35d",
   "metadata": {},
   "source": [
    "Q9) Write a code to access the second element in the list ['a', 'b', 'c', 'd']."
   ]
  },
  {
   "cell_type": "code",
   "execution_count": 9,
   "id": "05ad8b9c",
   "metadata": {},
   "outputs": [
    {
     "name": "stdout",
     "output_type": "stream",
     "text": [
      "b\n"
     ]
    }
   ],
   "source": [
    "my_list = ['a', 'b', 'c', 'd']\n",
    "second_element = my_list[1]\n",
    "print(second_element)\n"
   ]
  },
  {
   "cell_type": "markdown",
   "id": "280a44d6",
   "metadata": {},
   "source": [
    "Q10) Write a code to reverse the list [10, 20, 30, 40, 50]."
   ]
  },
  {
   "cell_type": "code",
   "execution_count": 10,
   "id": "78047122",
   "metadata": {},
   "outputs": [
    {
     "name": "stdout",
     "output_type": "stream",
     "text": [
      "[50, 40, 30, 20, 10]\n"
     ]
    }
   ],
   "source": [
    "numbers = [10, 20, 30, 40, 50]\n",
    "numbers.reverse()\n",
    "print(numbers)\n"
   ]
  },
  {
   "cell_type": "markdown",
   "id": "3ff7cc77",
   "metadata": {},
   "source": [
    "Q11)  Write a code to create a tuple with the elements 100, 200, 300 and print it."
   ]
  },
  {
   "cell_type": "code",
   "execution_count": 11,
   "id": "cbfaa645",
   "metadata": {},
   "outputs": [
    {
     "name": "stdout",
     "output_type": "stream",
     "text": [
      "(100, 200, 300)\n"
     ]
    }
   ],
   "source": [
    "my_tuple = (100, 200, 300)\n",
    "print(my_tuple)\n"
   ]
  },
  {
   "cell_type": "markdown",
   "id": "6a8bb543",
   "metadata": {},
   "source": [
    "Q12) Write a code to access the second-to-last element of the tuple ('red', 'green', 'blue', 'yellow')."
   ]
  },
  {
   "cell_type": "code",
   "execution_count": 12,
   "id": "ec10ad8a",
   "metadata": {},
   "outputs": [
    {
     "name": "stdout",
     "output_type": "stream",
     "text": [
      "blue\n"
     ]
    }
   ],
   "source": [
    "my_tuple = ('red', 'green', 'blue', 'yellow')\n",
    "second_to_last = my_tuple[-2]\n",
    "print(second_to_last)\n"
   ]
  },
  {
   "cell_type": "markdown",
   "id": "992fe3ef",
   "metadata": {},
   "source": [
    "Q13) Write a code to find the minimum number in the tuple (10, 20, 5, 15)."
   ]
  },
  {
   "cell_type": "code",
   "execution_count": 13,
   "id": "c14c783b",
   "metadata": {},
   "outputs": [
    {
     "name": "stdout",
     "output_type": "stream",
     "text": [
      "5\n"
     ]
    }
   ],
   "source": [
    "my_tuple = (10, 20, 5, 15)\n",
    "min_number = min(my_tuple)\n",
    "print(min_number)\n"
   ]
  },
  {
   "cell_type": "markdown",
   "id": "9f121d4a",
   "metadata": {},
   "source": [
    "Q14) Write a code to find the index of the element \"cat\" in the tuple ('dog', 'cat', 'rabbit')."
   ]
  },
  {
   "cell_type": "code",
   "execution_count": 14,
   "id": "65cff477",
   "metadata": {},
   "outputs": [
    {
     "name": "stdout",
     "output_type": "stream",
     "text": [
      "1\n"
     ]
    }
   ],
   "source": [
    "my_tuple = ('dog', 'cat', 'rabbit')\n",
    "index_of_cat = my_tuple.index('cat')\n",
    "print(index_of_cat)\n"
   ]
  },
  {
   "cell_type": "markdown",
   "id": "dc542493",
   "metadata": {},
   "source": [
    "Q15) Write a code to create a tuple containing three different fruits and check if \"kiwi\" is in it."
   ]
  },
  {
   "cell_type": "code",
   "execution_count": 15,
   "id": "c5def7e8",
   "metadata": {},
   "outputs": [
    {
     "name": "stdout",
     "output_type": "stream",
     "text": [
      "False\n"
     ]
    }
   ],
   "source": [
    "fruits = ('apple', 'banana', 'cherry')\n",
    "is_kiwi_in_tuple = 'kiwi' in fruits\n",
    "print(is_kiwi_in_tuple)\n"
   ]
  },
  {
   "cell_type": "markdown",
   "id": "64ded9ca",
   "metadata": {},
   "source": [
    "Q16) Write a code to create a set with the elements 'a', 'b', 'c' and print it."
   ]
  },
  {
   "cell_type": "code",
   "execution_count": 16,
   "id": "9de76605",
   "metadata": {},
   "outputs": [
    {
     "name": "stdout",
     "output_type": "stream",
     "text": [
      "{'a', 'b', 'c'}\n"
     ]
    }
   ],
   "source": [
    "my_set = {'a', 'b', 'c'}\n",
    "print(my_set)\n"
   ]
  },
  {
   "cell_type": "markdown",
   "id": "c760a5d3",
   "metadata": {},
   "source": [
    "Q17)  Write a code to clear all elements from the set {1, 2, 3, 4, 5}."
   ]
  },
  {
   "cell_type": "code",
   "execution_count": 17,
   "id": "c3aeaf0c",
   "metadata": {},
   "outputs": [
    {
     "name": "stdout",
     "output_type": "stream",
     "text": [
      "set()\n"
     ]
    }
   ],
   "source": [
    "my_set = {1, 2, 3, 4, 5}\n",
    "my_set.clear()\n",
    "print(my_set)\n"
   ]
  },
  {
   "cell_type": "markdown",
   "id": "66f3a7d5",
   "metadata": {},
   "source": [
    "Q18) Write a code to remove the element 4 from the set {1, 2, 3, 4}."
   ]
  },
  {
   "cell_type": "code",
   "execution_count": 18,
   "id": "9a4fd8a2",
   "metadata": {},
   "outputs": [
    {
     "name": "stdout",
     "output_type": "stream",
     "text": [
      "{1, 2, 3}\n"
     ]
    }
   ],
   "source": [
    "my_set = {1, 2, 3, 4}\n",
    "my_set.remove(4)\n",
    "print(my_set)\n"
   ]
  },
  {
   "cell_type": "markdown",
   "id": "5f125f78",
   "metadata": {},
   "source": [
    "Q19) Write a code to find the union of two sets {1, 2, 3} and {3, 4, 5}."
   ]
  },
  {
   "cell_type": "code",
   "execution_count": 19,
   "id": "34eca457",
   "metadata": {},
   "outputs": [
    {
     "name": "stdout",
     "output_type": "stream",
     "text": [
      "{1, 2, 3, 4, 5}\n"
     ]
    }
   ],
   "source": [
    "set1 = {1, 2, 3}\n",
    "set2 = {3, 4, 5}\n",
    "union_set = set1.union(set2)\n",
    "print(union_set)\n"
   ]
  },
  {
   "cell_type": "markdown",
   "id": "6e02cd37",
   "metadata": {},
   "source": [
    "Q20) Write a code to find the intersection of two sets {1, 2, 3} and {2, 3, 4}."
   ]
  },
  {
   "cell_type": "code",
   "execution_count": 20,
   "id": "6eb169e6",
   "metadata": {},
   "outputs": [
    {
     "name": "stdout",
     "output_type": "stream",
     "text": [
      "{2, 3}\n"
     ]
    }
   ],
   "source": [
    "set1 = {1, 2, 3}\n",
    "set2 = {2, 3, 4}\n",
    "intersection_set = set1.intersection(set2)\n",
    "print(intersection_set)\n"
   ]
  },
  {
   "cell_type": "markdown",
   "id": "b8da0b9b",
   "metadata": {},
   "source": [
    "Q21) Write a code to create a dictionary with the keys \"name\", \"age\", and \"city\", and print it."
   ]
  },
  {
   "cell_type": "code",
   "execution_count": 28,
   "id": "8673241e",
   "metadata": {},
   "outputs": [
    {
     "name": "stdout",
     "output_type": "stream",
     "text": [
      "{'name': 'Mina', 'age': 20, 'city': 'Mumbai'}\n"
     ]
    }
   ],
   "source": [
    "my_dict = {\n",
    "    \"name\": \"Mina\",\n",
    "    \"age\": 20,\n",
    "    \"city\": \"Mumbai\"\n",
    "}\n",
    "print(my_dict)\n"
   ]
  },
  {
   "cell_type": "markdown",
   "id": "b5a2e93b",
   "metadata": {},
   "source": [
    "Q22) Write a code to add a new key-value pair \"country\": \"USA\" to the dictionary {'name': 'John', 'age': 25}."
   ]
  },
  {
   "cell_type": "code",
   "execution_count": 22,
   "id": "19d875bc",
   "metadata": {},
   "outputs": [
    {
     "name": "stdout",
     "output_type": "stream",
     "text": [
      "{'name': 'John', 'age': 25, 'country': 'USA'}\n"
     ]
    }
   ],
   "source": [
    "my_dict = {'name': 'John', 'age': 25}\n",
    "my_dict['country'] = 'USA'\n",
    "print(my_dict)\n"
   ]
  },
  {
   "cell_type": "markdown",
   "id": "df2b8f73",
   "metadata": {},
   "source": [
    "Q23)  Write a code to access the value associated with the key \"name\" in the dictionary {'name': 'Alice', 'age': 30}."
   ]
  },
  {
   "cell_type": "code",
   "execution_count": 23,
   "id": "c1f985d0",
   "metadata": {},
   "outputs": [
    {
     "name": "stdout",
     "output_type": "stream",
     "text": [
      "Alice\n"
     ]
    }
   ],
   "source": [
    "my_dict = {'name': 'Alice', 'age': 30}\n",
    "name_value = my_dict['name']\n",
    "print(name_value)\n"
   ]
  },
  {
   "cell_type": "markdown",
   "id": "cf4ee8f9",
   "metadata": {},
   "source": [
    "Q24) Write a code to remove the key \"age\" from the dictionary {'name': 'Bob', 'age': 22, 'city': 'New York'}."
   ]
  },
  {
   "cell_type": "code",
   "execution_count": 24,
   "id": "d4bcf1c6",
   "metadata": {},
   "outputs": [
    {
     "name": "stdout",
     "output_type": "stream",
     "text": [
      "{'name': 'Bob', 'city': 'New York'}\n"
     ]
    }
   ],
   "source": [
    "my_dict = {'name': 'Bob', 'age': 22, 'city': 'New York'}\n",
    "del my_dict['age']\n",
    "print(my_dict)\n"
   ]
  },
  {
   "cell_type": "markdown",
   "id": "d880e432",
   "metadata": {},
   "source": [
    "Q25) Write a code to check if the key \"city\" exists in the dictionary {'name': 'Alice', 'city': 'Paris'}."
   ]
  },
  {
   "cell_type": "code",
   "execution_count": 25,
   "id": "8edc67c3",
   "metadata": {},
   "outputs": [
    {
     "name": "stdout",
     "output_type": "stream",
     "text": [
      "True\n"
     ]
    }
   ],
   "source": [
    "my_dict = {'name': 'Alice', 'city': 'Paris'}\n",
    "key_exists = 'city' in my_dict\n",
    "print(key_exists)\n"
   ]
  },
  {
   "cell_type": "markdown",
   "id": "94b5d1d7",
   "metadata": {},
   "source": [
    "Q26) Write a code to create a list, a tuple, and a dictionary, and print them all."
   ]
  },
  {
   "cell_type": "code",
   "execution_count": 26,
   "id": "a37e3f3a",
   "metadata": {},
   "outputs": [
    {
     "name": "stdout",
     "output_type": "stream",
     "text": [
      "List: [1, 2, 3, 4, 5]\n",
      "Tuple: ('mango', 'banana', 'papaya')\n",
      "Dictionary: {'name': 'Riya', 'age': 30, 'city': 'Delhi'}\n"
     ]
    }
   ],
   "source": [
    "# Creating a list\n",
    "my_list = [1, 2, 3, 4, 5]\n",
    "\n",
    "# Creating a tuple\n",
    "my_tuple = ('mango', 'banana', 'papaya')\n",
    "\n",
    "# Creating a dictionary\n",
    "my_dict = {'name': 'Riya', 'age': 30, 'city': 'Delhi'}\n",
    "\n",
    "# Printing all of them\n",
    "print(\"List:\", my_list)\n",
    "print(\"Tuple:\", my_tuple)\n",
    "print(\"Dictionary:\", my_dict)\n"
   ]
  },
  {
   "cell_type": "markdown",
   "id": "1adee750",
   "metadata": {},
   "source": [
    "Q27)  Write a code to create a list of 5 random numbers between 1 and 100, sort it in ascending order, and print the result.(replaced)."
   ]
  },
  {
   "cell_type": "code",
   "execution_count": 29,
   "id": "77a8d1d5",
   "metadata": {},
   "outputs": [
    {
     "name": "stdout",
     "output_type": "stream",
     "text": [
      "[40, 46, 47, 82, 86]\n"
     ]
    }
   ],
   "source": [
    "import random\n",
    "\n",
    "# Creating a list of 5 random numbers between 1 and 100\n",
    "random_numbers = [random.randint(1, 100) for _ in range(5)]\n",
    "\n",
    "# Sorting the list in ascending order\n",
    "random_numbers.sort()\n",
    "\n",
    "# Printing the result\n",
    "print(random_numbers)\n"
   ]
  },
  {
   "cell_type": "markdown",
   "id": "4aaf6050",
   "metadata": {},
   "source": [
    "Q28) Write a code to create a list with strings and print the element at the third index."
   ]
  },
  {
   "cell_type": "code",
   "execution_count": 31,
   "id": "1cc7709e",
   "metadata": {},
   "outputs": [
    {
     "name": "stdout",
     "output_type": "stream",
     "text": [
      "mango\n"
     ]
    }
   ],
   "source": [
    "# Creating a list of strings\n",
    "my_list = ['apple', 'banana', 'cherry', 'mango', 'elderberry']\n",
    "\n",
    "# Printing the element at the third index (4th element)\n",
    "print(my_list[3])\n"
   ]
  },
  {
   "cell_type": "markdown",
   "id": "fde7aa37",
   "metadata": {},
   "source": [
    "Q29) Write a code to combine two dictionaries into one and print the result."
   ]
  },
  {
   "cell_type": "code",
   "execution_count": 32,
   "id": "5e779887",
   "metadata": {},
   "outputs": [
    {
     "name": "stdout",
     "output_type": "stream",
     "text": [
      "{'name': 'Alice', 'age': 25, 'city': 'New York', 'occupation': 'Engineer'}\n"
     ]
    }
   ],
   "source": [
    "# Creating two dictionaries\n",
    "dict1 = {'name': 'Alice', 'age': 25}\n",
    "dict2 = {'city': 'New York', 'occupation': 'Engineer'}\n",
    "\n",
    "# Combining the two dictionaries\n",
    "combined_dict = {**dict1, **dict2}\n",
    "\n",
    "# Printing the result\n",
    "print(combined_dict)\n"
   ]
  },
  {
   "cell_type": "markdown",
   "id": "ca81b794",
   "metadata": {},
   "source": [
    "Q30)  Write a code to convert a list of strings into a set."
   ]
  },
  {
   "cell_type": "code",
   "execution_count": 33,
   "id": "49b7de5b",
   "metadata": {},
   "outputs": [
    {
     "name": "stdout",
     "output_type": "stream",
     "text": [
      "{'apple', 'banana', 'date', 'cherry'}\n"
     ]
    }
   ],
   "source": [
    "# Creating a list of strings\n",
    "my_list = ['apple', 'banana', 'cherry', 'apple', 'date']\n",
    "\n",
    "# Converting the list to a set (duplicates will be removed)\n",
    "my_set = set(my_list)\n",
    "\n",
    "# Printing the result\n",
    "print(my_set)\n"
   ]
  },
  {
   "cell_type": "markdown",
   "id": "683c49fd",
   "metadata": {},
   "source": []
  }
 ],
 "metadata": {
  "kernelspec": {
   "display_name": "Python 3",
   "language": "python",
   "name": "python3"
  },
  "language_info": {
   "codemirror_mode": {
    "name": "ipython",
    "version": 3
   },
   "file_extension": ".py",
   "mimetype": "text/x-python",
   "name": "python",
   "nbconvert_exporter": "python",
   "pygments_lexer": "ipython3",
   "version": "3.13.3"
  }
 },
 "nbformat": 4,
 "nbformat_minor": 5
}
